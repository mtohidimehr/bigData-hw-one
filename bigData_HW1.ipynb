{
  "nbformat": 4,
  "nbformat_minor": 0,
  "metadata": {
    "colab": {
      "name": "bigData-HW1.ipynb",
      "provenance": [],
      "toc_visible": true
    },
    "kernelspec": {
      "name": "python3",
      "display_name": "Python 3"
    },
    "language_info": {
      "name": "python"
    }
  },
  "cells": [
    {
      "cell_type": "code",
      "execution_count": null,
      "metadata": {
        "id": "3bNaopeS2FI4"
      },
      "outputs": [],
      "source": [
        "!wget https://dlcdn.apache.org/spark/spark-3.2.1/spark-3.2.1-bin-hadoop3.2.tgz\n",
        "!tar -xvzf spark-3.2.1-bin-hadoop3.2.tgz\n",
        "!pip install findspark\n",
        "import os\n",
        "os.environ[\"SPARK_HOME\"]= \"/content/spark-3.2.1-bin-hadoop3.2\"\n",
        "import findspark\n",
        "findspark.init()"
      ]
    },
    {
      "cell_type": "code",
      "source": [
        "bookList = ['In Search of Lost Time' , 'Nineteen Eighty Four' , 'The Lord of the Rings' ,'Pride and Prejudice','The Grapes of Wrath',\n",
        "            'To Kill a Mockingbird','Jane Eyre','Wuthering Heights','A Passage to India','Lord of the Flies',\n",
        "            'Hamlet','A Bend in the River','The Great Gatsby','The Catcher in the Rye','The Bell Jar',\n",
        "            'Brave New World','The Diary of a Young Girl','Don Quixote','The Bible','The Canterbury Tales',\n",
        "            'The Quiet American','Birdsong','Money','Harry Potter and the Deathly Hallows','Harry Potter and the Order of the Phoenix',\n",
        "            'Harry Potter And The Prisoner Of Azkaban','Harry Potter and the Half-Blood Prince','Moby Dick','The Wind in the Willows','His Dark Materials',\n",
        "            'Anna Karenina','Alice Adventures in Wonderland','Rebecca','On the Road','Heart of Darkness',\n",
        "            'The Way We Live Now','The Stranger','The Color Purple','Life of Pi','Frankenstein',\n",
        "            'War of the Worlds','Stories of Ernest Hemingway','Gulliver Travels','A Christmas Carol','Robinson Crusoe',\n",
        "            'Catch-22','The Count of Monte Cristo','Memoirs of a Geisha','The Divine Comedy','The Picture of Dorian Gray']"
      ],
      "metadata": {
        "id": "uIk-e7P25tUH"
      },
      "execution_count": 10,
      "outputs": []
    },
    {
      "cell_type": "code",
      "source": [
        "from pyspark.sql import SparkSession\n",
        "spark = SparkSession.builder.appName('App1').getOrCreate()\n",
        "rdd = spark.sparkContext.parallelize(bookList)"
      ],
      "metadata": {
        "id": "lOo3RMvGd-ec"
      },
      "execution_count": 100,
      "outputs": []
    },
    {
      "cell_type": "code",
      "source": [
        "rdd.filter(lambda x: bookList[19] in x).collect()"
      ],
      "metadata": {
        "colab": {
          "base_uri": "https://localhost:8080/"
        },
        "id": "flxcqy2mkt9o",
        "outputId": "0aa1eb7a-ee1c-4f97-8bd2-2dc9984708fd"
      },
      "execution_count": 20,
      "outputs": [
        {
          "output_type": "execute_result",
          "data": {
            "text/plain": [
              "['The Canterbury Tales']"
            ]
          },
          "metadata": {},
          "execution_count": 20
        }
      ]
    },
    {
      "cell_type": "code",
      "source": [
        "rdd.map(lambda x: x.upper()).collect()"
      ],
      "metadata": {
        "id": "IDMnbfrDmldp"
      },
      "execution_count": null,
      "outputs": []
    },
    {
      "cell_type": "code",
      "source": [
        "\n",
        "rdd.groupBy(lambda x: x[0]).map(lambda x:(x[0],list(x[1]))).sortBy(lambda x: x[0]).collect()\n"
      ],
      "metadata": {
        "id": "1NKeY99orCLv"
      },
      "execution_count": null,
      "outputs": []
    },
    {
      "cell_type": "code",
      "source": [
        "from pyspark import SparkContext\n",
        "sc = spark.sparkContext\n",
        "RddText = sc.textFile(\"Input\")\n",
        "wordCounts = RddText.flatMap(lambda line: line.split()).map(lambda word:(word, 1)).reduceByKey(lambda a,b:a+b)\n",
        "list(wordCounts.collect())"
      ],
      "metadata": {
        "id": "q-FbYTKR0O_z"
      },
      "execution_count": null,
      "outputs": []
    },
    {
      "cell_type": "markdown",
      "source": [
        "# New Section"
      ],
      "metadata": {
        "id": "ntEoj45hQuNs"
      }
    }
  ]
}